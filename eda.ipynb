{
 "cells": [
  {
   "cell_type": "markdown",
   "metadata": {},
   "source": [
    "\n",
    "# Projeto ICMC Júnior\n",
    "## Objetivo: Prever se um funcionário vai sair da empresa (attrition).\n",
    "\n",
    "### Etapa 2: Análise exploratória dos dados (EDA)"
   ]
  },
  {
   "cell_type": "code",
   "execution_count": null,
   "metadata": {},
   "outputs": [],
   "source": [
    "import seaborn as sns\n",
    "import pandas as pd\n",
    "import matplotlib.pyplot as plt\n",
    "import numpy as np\n",
    "\n",
    "# Configura estilo do seaborn (operação meramente estética)\n",
    "sns.set_theme(style=\"whitegrid\")"
   ]
  },
  {
   "cell_type": "code",
   "execution_count": null,
   "metadata": {},
   "outputs": [],
   "source": [
    "# Leitura do dataset (usamos, agora, a base limpa gerada na etapa 1 do projeto)\n",
    "df = pd.read_csv('dados_limpos.csv')"
   ]
  },
  {
   "cell_type": "markdown",
   "metadata": {},
   "source": [
    "#### Relação entre Attrition e Overtime "
   ]
  },
  {
   "cell_type": "code",
   "execution_count": null,
   "metadata": {},
   "outputs": [],
   "source": [
    "# Nessa análise, buscamos entender se há uma correlação entre trabalhar além do horário e a decisão de deixar a empresa.\n",
    "\n",
    "# Cria uma tabela cruzada para contar ocorrências de Attrition em relação a OverTime\n",
    "relacao_overtime_attrition = pd.crosstab(df['OverTime'], df['Attrition'])\n",
    "\n",
    "# Mostra a tabela de dados que será plotada\n",
    "print(\"Dados que serão plotados (contagem):\")\n",
    "print(relacao_overtime_attrition)\n",
    "\n",
    "# Analise da proporcionalidade dentro de cada categoria de OverTime\n",
    "proporcao_overtime_attrition = relacao_overtime_attrition.div(relacao_overtime_attrition.sum(axis=1), axis=0)\n",
    "print(\"\\nProporção dentro de cada categoria de OverTime:\")\n",
    "print(proporcao_overtime_attrition)\n",
    "\n",
    "# Plota o gráfico de barras para a relação entre OverTime e Attrition\n",
    "plot_overtime_attrition = relacao_overtime_attrition.plot(\n",
    "    kind='bar',                # Tipo de gráfico: 'bar' (barras)\n",
    "    figsize=(10, 6),           # Tamanho da figura\n",
    "    title='Contagem de Saída (Attrition) vs. Horas Extras (OverTime)',\n",
    "    grid=True                  # Adiciona uma grade de fundo\n",
    ")\n",
    "\n",
    "# Configura os rótulos dos eixos e a legenda\n",
    "plot_overtime_attrition.set_xlabel('Fez Horas Extras?')\n",
    "plot_overtime_attrition.set_ylabel('Contagem de Funcionários')\n",
    "plt.legend(title='Attrition (Saída)')\n",
    "\n",
    "# Garante que os rótulos do eixo X fiquem retos (sem isso, ficam na vertical)\n",
    "plt.xticks(rotation=0) \n",
    "\n",
    "# Mostra o gráfico\n",
    "plt.show()"
   ]
  },
  {
   "cell_type": "markdown",
   "metadata": {},
   "source": [
    "Dada a relação mostrada tanto pelo plot quanto pelas estatísticas numéricas, percebe-se que, proporcionalmente, dentre os funcionários que saíram da empresa, a quantidade dos que faziam hora-extra é muito maior do que aqueles que fazem hora-extra e permanecem na empresa: enquanto cerca de 11% dos funcionários que permanecem na empresa fazem hora-extra, 30.5% dos funcionários que saíram da empresa faziam hora-extra."
   ]
  },
  {
   "cell_type": "markdown",
   "metadata": {},
   "source": [
    "#### Relação entre Attrition e MonthlyIncome"
   ]
  },
  {
   "cell_type": "code",
   "execution_count": null,
   "metadata": {},
   "outputs": [],
   "source": [
    "# Nessa análise, buscamos visualizar a distribuição salarial dos funcionários que saíram da empresa em comparação com os que permaneceram.\n",
    "# Observação: após a limpeza dos dados, 'MonthlyIncome' adota uma escala em log e está nomeada como 'MonthlyIncome_log'.\n",
    "\n",
    "# Plota o gráfico com boxplot para a relação entre MonthlyIncome_log e Attrition\n",
    "plot_income_attrition = df.boxplot(\n",
    "    column='MonthlyIncome_log',  # Coluna de interesse\n",
    "    by='Attrition',              # Agrupamento por Attrition\n",
    "    figsize=(8, 6),\n",
    "    grid=True\n",
    ")\n",
    "\n",
    "# Configura os rótulos dos eixos e o título\n",
    "plot_income_attrition.set_title('Distribuição da Renda Mensal (log) por Attrition')\n",
    "plot_income_attrition.set_xlabel('Attrition (Saída)')\n",
    "plot_income_attrition.set_ylabel('Renda Mensal (log)')\n",
    "plt.suptitle('') # Remove o título automático do pandas\n",
    "plot_income_attrition.set_xticklabels(['Ficou (0)', 'Saiu (1)'])\n",
    "\n",
    "plt.show()"
   ]
  },
  {
   "cell_type": "markdown",
   "metadata": {},
   "source": [
    "Usando o plot gerado, pode-se analisar que funcionários que saíram da empresa (com Attrition=yes) possuem, em geral, uma renda mensal menor do que a daqueles que permaneceram (com Attrition=no). Além disso, é válido ressaltar que o uso de uma escala diferente da convencional (nesse caso, log) não modifica a análise sobre a relação dos dados como um todo."
   ]
  },
  {
   "cell_type": "markdown",
   "metadata": {},
   "source": [
    "#### Relação entre Attrition e Department"
   ]
  },
  {
   "cell_type": "code",
   "execution_count": null,
   "metadata": {},
   "outputs": [],
   "source": [
    "# Nessa análise, buscamos entender a relação entre o departamento do funcionário e a decisão de deixar a empresa.\n",
    "# Diferente das últimas análises, que eram sobre relações mais claras com Attrition, variamos a abordagem para analisar uma variável\n",
    "# talvez menos óbvia, mas que talvez pode ter impacto na decisão de saída.\n",
    "\n",
    "# Cria uma tabela cruzada para contar ocorrências de Attrition em relação a Department\n",
    "relacao_department_attrition = pd.crosstab(df['Department'], df['Attrition'])\n",
    "\n",
    "# Calcula as porcentagens\n",
    "crosstab_percent = relacao_department_attrition.div(relacao_department_attrition.sum(axis=1), axis=0) * 100\n",
    "\n",
    "# Mostra a tabela de porcentagens completa. O plot será referente apenas à taxa de saída (Attrition = 'yes')\n",
    "print(\"Tabela de Porcentagens (completa):\")\n",
    "print(crosstab_percent)\n",
    "\n",
    "# Foca apenas na taxa de saída (Attrition = 'yes')\n",
    "taxa_de_saida_por_depto = crosstab_percent['yes'] \n",
    "\n",
    "# Plota o gráfico de barras horizontais para a taxa de saída por departamento\n",
    "plot_department_attrition = taxa_de_saida_por_depto.plot(\n",
    "    kind='barh',         # Barras Horizontais (melhor para nomes longos)\n",
    "    figsize=(12, 7),\n",
    "    title='Taxa de Saída (%) por Departamento',\n",
    "    grid=True,           # Grid horizontal ajuda na leitura\n",
    "    color='sandybrown'\n",
    ")\n",
    "\n",
    "plot_department_attrition.set_xlabel('Taxa de Saída (%)')\n",
    "plot_department_attrition.set_ylabel('Departamento')\n",
    "\n",
    "# Reverte a ordem do eixo Y para Deptos. Aparecerem em ordem alfabética\n",
    "plot_department_attrition.invert_yaxis() \n",
    "\n",
    "# Remove a legenda, já que só há uma série de dados\n",
    "if plot_department_attrition.get_legend() is not None:\n",
    "    plot_department_attrition.get_legend().remove()\n",
    "\n",
    "# Mostra o gráfico\n",
    "plt.show()"
   ]
  },
  {
   "cell_type": "markdown",
   "metadata": {},
   "source": [
    "Como mencionado nos comentários do trecho de código acima, essa análise não esperava encontrar um fator expressivamente determinante sobre a taxa de saída de funcionários, apenas experimentar sobre os fatores \"menos óbvios\". Com isso, obtemos resultados não claramente determinantes sobre Attrition, mas que podem, de alguma maneira, demonstrar uma certa influência. Podemos apontar que a maior taxa de Attrition pertence ao departamento de vendas, com cerca de 21% de seus funcionários tendo saído da empresa, enquanto a menor pertence ao departamento de pesquisa e desenvolvimento, com 13.8%."
   ]
  },
  {
   "cell_type": "markdown",
   "metadata": {},
   "source": [
    "#### Heatmap de correlações"
   ]
  },
  {
   "cell_type": "code",
   "execution_count": null,
   "metadata": {},
   "outputs": [],
   "source": [
    "# Por fim, faremos uma análise geral sobre correlações entre variáveis numéricas do dataset.\n",
    "# Além disso, ao fim, teremos um plot referente unicamente às correlações com 'Attrition'.\n",
    "\n",
    "# Prepara o DataFrame para a matriz de correlação, convertendo variáveis categóricas em dummies (one-hot encoding)\n",
    "# 'drop_first=True' evita variáveis complementares que não adicionam informação nova\n",
    "df_para_heatmap = pd.get_dummies(df, drop_first=True)\n",
    "\n",
    "# Calcula a matriz de correlação\n",
    "matriz_corr = df_para_heatmap.corr()\n",
    "\n",
    "print(\"Matriz de correlação entre todas as variáveis:\")\n",
    "\n",
    "# Cria uma figura (grande pois são muitos fatores)\n",
    "plt.figure(figsize=(24, 18))\n",
    "\n",
    "# Cria uma \"máscara\" para cortar a parte simétrica da matriz (evita redundância visual)\n",
    "mask = np.triu(np.ones_like(matriz_corr, dtype=bool))\n",
    "\n",
    "# Desenha o heatmap\n",
    "sns.heatmap(\n",
    "    matriz_corr,\n",
    "    mask=mask,               # Aplica a máscara\n",
    "    annot=True,              # Mostra os números (correlação) dentro de cada célula\n",
    "    fmt='.2f',               # Formata os números para 2 casas decimais\n",
    "    cmap='coolwarm',         # Mapa de cores (azul = negativo, vermelho = positivo)\n",
    "    linewidths=.5,           # Linhas finas separando as células\n",
    "    cbar_kws={\"shrink\": .8}  # Encolhe um pouco a barra de cor lateral\n",
    ")\n",
    "\n",
    "plt.title('Mapa de Calor das Correlações entre Todas as Variáveis', fontsize=20)\n",
    "plt.tight_layout() # Garante que os rótulos não sejam cortados\n",
    "plt.show()\n",
    "\n",
    "print(\"\\nCorrelação das variáveis com 'Attrition':\")\n",
    "\n",
    "corr_com_attrition = matriz_corr['Attrition_yes']\n",
    "\n",
    "# Retira a correlação da variável consigo mesma\n",
    "corr_com_attrition = corr_com_attrition.drop('Attrition_yes')\n",
    "\n",
    "# Ordena os valores para o gráfico ficar mais limpo e fácil de ler\n",
    "corr_com_attrition_sorted = corr_com_attrition.sort_values(ascending=True)\n",
    "\n",
    "plt.figure(figsize=(12, 10))\n",
    "\n",
    "# Define cores para melhor visualização: vermelho para positivo, azul para negativo.\n",
    "colors = corr_com_attrition_sorted.apply(lambda x: 'salmon' if x > 0 else 'skyblue')\n",
    "\n",
    "plot_correlacoes_attrition = corr_com_attrition_sorted.plot(\n",
    "    kind='barh',\n",
    "    grid=True,\n",
    "    title='Correlação de Cada Fator com a Saída (Attrition_yes)',\n",
    "    color=colors  # Aplica as cores condicionais\n",
    ")\n",
    "\n",
    "plot_correlacoes_attrition.set_xlabel('Coeficiente de Correlação de Pearson')\n",
    "plot_correlacoes_attrition.set_ylabel('Fatores')\n",
    "\n",
    "# Adiciona uma linha vertical no zero para ver claramente o que é positivo/negativo\n",
    "plot_correlacoes_attrition.axvline(x=0, color='black', linewidth=0.8, linestyle='--')\n",
    "\n",
    "plt.tight_layout()\n",
    "plt.show()"
   ]
  },
  {
   "cell_type": "markdown",
   "metadata": {},
   "source": [
    "Com esses últimos plots, podemos visualizar as correlações entre as variáveis \"entre si\" (mapa de calor) e as correlações em relação a Attrition (nossa variável alvo). A ferramenta estatística usada para isso é o \"Coeficiente de Correlação de Pearson\", que mede a força de uma relação linear entre duas variáveis, resultando em um valor entre -1 e +1. Nesses gráficos, os valores significam o seguinte:\n",
    "- Valores próximos de 0 têm pouca influência linear sobre Attrition.\n",
    "- Valores próximos de +1 (correlação positiva) significam que, quando o fator aumenta, Attrition também tende a aumentar.\n",
    "- Valores próximos de -1 (correlação negativa) significam que, quando o fator aumenta, Attrition tende a diminuir."
   ]
  }
 ],
 "metadata": {
  "kernelspec": {
   "display_name": "venv",
   "language": "python",
   "name": "python3"
  },
  "language_info": {
   "codemirror_mode": {
    "name": "ipython",
    "version": 3
   },
   "file_extension": ".py",
   "mimetype": "text/x-python",
   "name": "python",
   "nbconvert_exporter": "python",
   "pygments_lexer": "ipython3",
   "version": "3.11.2"
  }
 },
 "nbformat": 4,
 "nbformat_minor": 2
}
