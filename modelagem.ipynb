{
 "cells": [
  {
   "cell_type": "markdown",
   "id": "536ddaa8",
   "metadata": {},
   "source": [
    "\n",
    "# Projeto ICMC Júnior\n",
    "## Objetivo: Prever se um funcionário vai sair da empresa (attrition).\n",
    "\n",
    "### Etapa final: Modelagem dos dados"
   ]
  },
  {
   "cell_type": "code",
   "execution_count": 135,
   "id": "f3f69fca",
   "metadata": {},
   "outputs": [],
   "source": [
    "import numpy as np\n",
    "import pandas as pd"
   ]
  },
  {
   "cell_type": "code",
   "execution_count": 136,
   "id": "59d08d71",
   "metadata": {},
   "outputs": [],
   "source": [
    "# Leitura do dataset (usamos, agora, a base limpa gerada na etapa 1 do projeto)\n",
    "df = pd.read_csv('dados_limpos.csv')"
   ]
  },
  {
   "cell_type": "markdown",
   "id": "3d555c47",
   "metadata": {},
   "source": [
    "Realiza primeiro o mapeamento da coluna alvo e das colunas binárias (Label Encoding)"
   ]
  },
  {
   "cell_type": "code",
   "execution_count": 137,
   "id": "3038f397",
   "metadata": {},
   "outputs": [
    {
     "name": "stdout",
     "output_type": "stream",
     "text": [
      "Convertendo coluna: 'Attrition'...\n",
      "  Valores ANTES: ['yes' 'no']\n",
      "Valores DEPOIS: [1 0]\n",
      "\n",
      "Convertendo coluna: 'OverTime'...\n",
      "  Valores ANTES: ['yes' 'no']\n",
      "Valores DEPOIS: [1 0]\n",
      "\n",
      "Convertendo coluna: 'Gender'...\n",
      "  Valores ANTES: ['female' 'male']\n",
      "Valores DEPOIS: [1 0]\n",
      "\n"
     ]
    }
   ],
   "source": [
    "def encoding_binary_columns(column, map_values):\n",
    "    \n",
    "    if column not in df.columns:\n",
    "        print(f\"Erro, coluna {column} não encontrada no dataframe\")\n",
    "    \n",
    "    print(f\"Convertendo coluna: '{column}'...\")\n",
    "    print(f\"  Valores ANTES: {df[column].unique()}\")\n",
    "    # Aplica mapeamento na coluna\n",
    "    df[column] = df[column].map(map_values)\n",
    "    print(f\"Valores DEPOIS: {df[column].unique()}\\n\")\n",
    "    \n",
    "\n",
    "encoding_binary_columns('Attrition', {'yes': 1, 'no': 0})\n",
    "encoding_binary_columns('OverTime', {'yes': 1, 'no': 0})\n",
    "encoding_binary_columns('Gender', {'female': 1, 'male': 0})\n"
   ]
  },
  {
   "cell_type": "markdown",
   "id": "8d6a7092",
   "metadata": {},
   "source": [
    "Converter as colunas categóricas nominais (One-Hot Encoding)"
   ]
  },
  {
   "cell_type": "code",
   "execution_count": 138,
   "id": "be7ba923",
   "metadata": {},
   "outputs": [],
   "source": [
    "# Lista de colunas do tipo qualitativo nominal\n",
    "colunas_nominais = [\n",
    "    'BusinessTravel', \n",
    "    'Department', \n",
    "    'EducationField', \n",
    "    'JobRole', \n",
    "    'MaritalStatus'\n",
    "]\n",
    "        \n",
    "# Realiza a conversão do dados de qualitativo para quantitativo, como consequência teremos um aumento de colunas de 31 para 45.\n",
    "df = pd.get_dummies(df, \n",
    "                    columns=colunas_nominais,\n",
    "                    dtype = int,\n",
    "                    drop_first=True # Evita multicolinearidade\n",
    "                    )"
   ]
  },
  {
   "cell_type": "markdown",
   "id": "a0cf6c2d",
   "metadata": {},
   "source": [
    "Com todas as colunas numéricas, agora podemos começar a modelagem dos dados aplicando o nosso modelo de Machile Learning"
   ]
  },
  {
   "cell_type": "code",
   "execution_count": null,
   "id": "7557f014",
   "metadata": {},
   "outputs": [],
   "source": []
  }
 ],
 "metadata": {
  "kernelspec": {
   "display_name": "3.13.6",
   "language": "python",
   "name": "python3"
  },
  "language_info": {
   "codemirror_mode": {
    "name": "ipython",
    "version": 3
   },
   "file_extension": ".py",
   "mimetype": "text/x-python",
   "name": "python",
   "nbconvert_exporter": "python",
   "pygments_lexer": "ipython3",
   "version": "3.13.6"
  }
 },
 "nbformat": 4,
 "nbformat_minor": 5
}
