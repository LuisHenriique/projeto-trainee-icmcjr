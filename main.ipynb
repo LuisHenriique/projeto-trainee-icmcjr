{
 "cells": [
  {
   "cell_type": "markdown",
   "id": "6741613b",
   "metadata": {},
   "source": [
    "\n",
    "# Projeto ICMC Júnior\n",
    "## Objetivo: Prever se um funcionário vai sair da empresa (attrition).\n",
    "\n",
    "### Etapa 1: Limpeza da base de dados"
   ]
  },
  {
   "cell_type": "code",
   "execution_count": 2,
   "id": "2bf81b10",
   "metadata": {},
   "outputs": [],
   "source": [
    "import pandas as pd\n",
    "import numpy as np\n",
    "import matplotlib.pyplot as plt\n",
    "import seaborn as sns\n",
    "from sklearn.preprocessing import LabelEncoder"
   ]
  },
  {
   "cell_type": "code",
   "execution_count": 3,
   "id": "5fa2e900",
   "metadata": {},
   "outputs": [],
   "source": [
    "# Leitura do arquivo csv\n",
    "df = pd.read_csv('dados.csv')\n"
   ]
  },
  {
   "cell_type": "markdown",
   "id": "0ac3af38",
   "metadata": {},
   "source": [
    "#### Visão resumida do dataframe"
   ]
  },
  {
   "cell_type": "code",
   "execution_count": 4,
   "id": "33c7cae4",
   "metadata": {},
   "outputs": [
    {
     "data": {
      "text/html": [
       "<div>\n",
       "<style scoped>\n",
       "    .dataframe tbody tr th:only-of-type {\n",
       "        vertical-align: middle;\n",
       "    }\n",
       "\n",
       "    .dataframe tbody tr th {\n",
       "        vertical-align: top;\n",
       "    }\n",
       "\n",
       "    .dataframe thead th {\n",
       "        text-align: right;\n",
       "    }\n",
       "</style>\n",
       "<table border=\"1\" class=\"dataframe\">\n",
       "  <thead>\n",
       "    <tr style=\"text-align: right;\">\n",
       "      <th></th>\n",
       "      <th>Age</th>\n",
       "      <th>Attrition</th>\n",
       "      <th>BusinessTravel</th>\n",
       "      <th>DailyRate</th>\n",
       "      <th>Department</th>\n",
       "      <th>DistanceFromHome</th>\n",
       "      <th>Education</th>\n",
       "      <th>EducationField</th>\n",
       "      <th>EmployeeCount</th>\n",
       "      <th>EmployeeNumber</th>\n",
       "      <th>...</th>\n",
       "      <th>RelationshipSatisfaction</th>\n",
       "      <th>StandardHours</th>\n",
       "      <th>StockOptionLevel</th>\n",
       "      <th>TotalWorkingYears</th>\n",
       "      <th>TrainingTimesLastYear</th>\n",
       "      <th>WorkLifeBalance</th>\n",
       "      <th>YearsAtCompany</th>\n",
       "      <th>YearsInCurrentRole</th>\n",
       "      <th>YearsSinceLastPromotion</th>\n",
       "      <th>YearsWithCurrManager</th>\n",
       "    </tr>\n",
       "  </thead>\n",
       "  <tbody>\n",
       "    <tr>\n",
       "      <th>0</th>\n",
       "      <td>41</td>\n",
       "      <td>Yes</td>\n",
       "      <td>Travel_Rarely</td>\n",
       "      <td>1102</td>\n",
       "      <td>Sales</td>\n",
       "      <td>1.0</td>\n",
       "      <td>2</td>\n",
       "      <td>Life Sciences</td>\n",
       "      <td>1.0</td>\n",
       "      <td>1</td>\n",
       "      <td>...</td>\n",
       "      <td>1</td>\n",
       "      <td>80</td>\n",
       "      <td>0</td>\n",
       "      <td>8</td>\n",
       "      <td>0</td>\n",
       "      <td>1</td>\n",
       "      <td>6</td>\n",
       "      <td>4</td>\n",
       "      <td>0</td>\n",
       "      <td>5</td>\n",
       "    </tr>\n",
       "    <tr>\n",
       "      <th>1</th>\n",
       "      <td>49</td>\n",
       "      <td>No</td>\n",
       "      <td>Travel_Frequently</td>\n",
       "      <td>279</td>\n",
       "      <td>Research &amp; Development</td>\n",
       "      <td>8.0</td>\n",
       "      <td>1</td>\n",
       "      <td>Life Sciences</td>\n",
       "      <td>1.0</td>\n",
       "      <td>2</td>\n",
       "      <td>...</td>\n",
       "      <td>4</td>\n",
       "      <td>80</td>\n",
       "      <td>1</td>\n",
       "      <td>10</td>\n",
       "      <td>3</td>\n",
       "      <td>3</td>\n",
       "      <td>10</td>\n",
       "      <td>7</td>\n",
       "      <td>1</td>\n",
       "      <td>7</td>\n",
       "    </tr>\n",
       "    <tr>\n",
       "      <th>2</th>\n",
       "      <td>37</td>\n",
       "      <td>Yes</td>\n",
       "      <td>Travel_Rarely</td>\n",
       "      <td>1373</td>\n",
       "      <td>Research &amp; Development</td>\n",
       "      <td>2.0</td>\n",
       "      <td>2</td>\n",
       "      <td>Other</td>\n",
       "      <td>1.0</td>\n",
       "      <td>4</td>\n",
       "      <td>...</td>\n",
       "      <td>2</td>\n",
       "      <td>80</td>\n",
       "      <td>0</td>\n",
       "      <td>7</td>\n",
       "      <td>3</td>\n",
       "      <td>3</td>\n",
       "      <td>0</td>\n",
       "      <td>0</td>\n",
       "      <td>0</td>\n",
       "      <td>0</td>\n",
       "    </tr>\n",
       "    <tr>\n",
       "      <th>3</th>\n",
       "      <td>33</td>\n",
       "      <td>No</td>\n",
       "      <td>Travel_Frequently</td>\n",
       "      <td>1392</td>\n",
       "      <td>Research &amp; Development</td>\n",
       "      <td>NaN</td>\n",
       "      <td>4</td>\n",
       "      <td>Life Sciences</td>\n",
       "      <td>NaN</td>\n",
       "      <td>5</td>\n",
       "      <td>...</td>\n",
       "      <td>3</td>\n",
       "      <td>80</td>\n",
       "      <td>0</td>\n",
       "      <td>8</td>\n",
       "      <td>3</td>\n",
       "      <td>3</td>\n",
       "      <td>8</td>\n",
       "      <td>7</td>\n",
       "      <td>3</td>\n",
       "      <td>0</td>\n",
       "    </tr>\n",
       "    <tr>\n",
       "      <th>4</th>\n",
       "      <td>27</td>\n",
       "      <td>No</td>\n",
       "      <td>NaN</td>\n",
       "      <td>591</td>\n",
       "      <td>Research &amp; Development</td>\n",
       "      <td>2.0</td>\n",
       "      <td>1</td>\n",
       "      <td>Medical</td>\n",
       "      <td>NaN</td>\n",
       "      <td>7</td>\n",
       "      <td>...</td>\n",
       "      <td>4</td>\n",
       "      <td>80</td>\n",
       "      <td>1</td>\n",
       "      <td>6</td>\n",
       "      <td>3</td>\n",
       "      <td>3</td>\n",
       "      <td>2</td>\n",
       "      <td>2</td>\n",
       "      <td>2</td>\n",
       "      <td>2</td>\n",
       "    </tr>\n",
       "  </tbody>\n",
       "</table>\n",
       "<p>5 rows × 35 columns</p>\n",
       "</div>"
      ],
      "text/plain": [
       "   Age Attrition     BusinessTravel  DailyRate              Department  \\\n",
       "0   41       Yes      Travel_Rarely       1102                   Sales   \n",
       "1   49        No  Travel_Frequently        279  Research & Development   \n",
       "2   37       Yes      Travel_Rarely       1373  Research & Development   \n",
       "3   33        No  Travel_Frequently       1392  Research & Development   \n",
       "4   27        No                NaN        591  Research & Development   \n",
       "\n",
       "   DistanceFromHome  Education EducationField  EmployeeCount  EmployeeNumber  \\\n",
       "0               1.0          2  Life Sciences            1.0               1   \n",
       "1               8.0          1  Life Sciences            1.0               2   \n",
       "2               2.0          2          Other            1.0               4   \n",
       "3               NaN          4  Life Sciences            NaN               5   \n",
       "4               2.0          1        Medical            NaN               7   \n",
       "\n",
       "   ...  RelationshipSatisfaction StandardHours  StockOptionLevel  \\\n",
       "0  ...                         1            80                 0   \n",
       "1  ...                         4            80                 1   \n",
       "2  ...                         2            80                 0   \n",
       "3  ...                         3            80                 0   \n",
       "4  ...                         4            80                 1   \n",
       "\n",
       "   TotalWorkingYears  TrainingTimesLastYear WorkLifeBalance  YearsAtCompany  \\\n",
       "0                  8                      0               1               6   \n",
       "1                 10                      3               3              10   \n",
       "2                  7                      3               3               0   \n",
       "3                  8                      3               3               8   \n",
       "4                  6                      3               3               2   \n",
       "\n",
       "  YearsInCurrentRole  YearsSinceLastPromotion  YearsWithCurrManager  \n",
       "0                  4                        0                     5  \n",
       "1                  7                        1                     7  \n",
       "2                  0                        0                     0  \n",
       "3                  7                        3                     0  \n",
       "4                  2                        2                     2  \n",
       "\n",
       "[5 rows x 35 columns]"
      ]
     },
     "execution_count": 4,
     "metadata": {},
     "output_type": "execute_result"
    }
   ],
   "source": [
    "# Verificação do tamanho da base de dados\n",
    "df.shape\n",
    "\n",
    "# Exibe os 5 primeiros funcionários da base de dados, apenas para contextualizar com a base\n",
    "df.head()"
   ]
  },
  {
   "cell_type": "markdown",
   "id": "21ffe4fb",
   "metadata": {},
   "source": [
    "#### Tratamento de colunas com valores irrelevantes ou constantes"
   ]
  },
  {
   "cell_type": "code",
   "execution_count": 5,
   "id": "9ba4121e",
   "metadata": {},
   "outputs": [
    {
     "name": "stdout",
     "output_type": "stream",
     "text": [
      "removendo coluna 'EmployeeCount' (valor constante)\n",
      "removendo coluna 'Over18' (valor constante)\n",
      "removendo coluna 'StandardHours' (valor constante)\n",
      "removendo coluna 'EmployeeNumber' (id do funcionário)\n"
     ]
    }
   ],
   "source": [
    "# Tratamento de colunas com valores irrelevantes\n",
    "# Verifica (e remove) colunas que possuem valores constantes\n",
    "for coluna in df.columns.tolist(): \n",
    "    if df[coluna].nunique() <= 1:\n",
    "        print(f\"removendo coluna '{coluna}' (valor constante)\")\n",
    "        df.drop(columns=[coluna], inplace=True)\n",
    "# Remove manualmente o EmployeeNumber (id do funcionário na base; como usamos o índice do dataframe, não é necessário)\n",
    "if 'EmployeeNumber' in df.columns:\n",
    "    print(\"removendo coluna 'EmployeeNumber' (id do funcionário)\")\n",
    "    df.drop(columns=['EmployeeNumber'], inplace=True)\n"
   ]
  },
  {
   "cell_type": "markdown",
   "id": "4ae6842d",
   "metadata": {},
   "source": [
    "#### Tratamento de colunas com valores nulos"
   ]
  },
  {
   "cell_type": "code",
   "execution_count": 6,
   "id": "3384f6f9",
   "metadata": {},
   "outputs": [],
   "source": [
    "# Antes de tratar os valores faltantes, definimos as seguintes funções referentes a verificação de outliers\n",
    "# Para substituir os valores nulos, devemos ter cuidado para não introduzir viés (a partir da presença ou não de outliers) na base de dados, por isso precisamos dessas funções.\n",
    "\n",
    "def calculate_lim_iqr(data_column):\n",
    "    \"\"\"Função responsável por calcular a amplitude interquartil de um Série (Coluna)\"\"\"\n",
    "    Q1 = data_column.quantile(0.25) # 1° Quartil \n",
    "    Q3 = data_column.quantile(0.75) # 3° Quartil \n",
    "    \n",
    "    \n",
    "    IQR = Q3 - Q1 # amplitude interquartil\n",
    "    \n",
    "    limite_inferior = Q1 - (1.5 * IQR) # lim inferior do box-plot\n",
    "    limite_superior = Q3 + (1.5 * IQR) # lim superior do box-plot\n",
    "    \n",
    "    return limite_inferior, limite_superior\n",
    "\n",
    "def verify_outliers(column, print_dados = True):\n",
    "    \"\"\"Calcula limite inferior e superior da Série fornecida (coluna)\"\"\"\n",
    "    lim_inf, lim_sup = calculate_lim_iqr(df[column])\n",
    "    \n",
    "    # Verifica se possui um dado menor que o limite inferior ou se há um dado maior que o limite superior\n",
    "    if df[column].min() < lim_inf or df[column].max() > lim_sup:\n",
    "        if print_dados:\n",
    "            print(f\"{column}: lim_inf: {lim_inf} | lim_sup:{lim_sup} | min:{df[column].min()} | max:{df[column].max()}\")\n",
    "        return True\n",
    "    return False"
   ]
  },
  {
   "cell_type": "code",
   "execution_count": 7,
   "id": "3c484520",
   "metadata": {},
   "outputs": [
    {
     "data": {
      "text/plain": [
       "Age                          0\n",
       "Attrition                    0\n",
       "BusinessTravel              70\n",
       "DailyRate                    0\n",
       "Department                   0\n",
       "DistanceFromHome            47\n",
       "Education                    0\n",
       "EducationField               0\n",
       "EnvironmentSatisfaction     53\n",
       "Gender                      67\n",
       "HourlyRate                  32\n",
       "JobInvolvement              61\n",
       "JobLevel                     0\n",
       "JobRole                      0\n",
       "JobSatisfaction              0\n",
       "MaritalStatus                0\n",
       "MonthlyIncome                0\n",
       "MonthlyRate                  0\n",
       "NumCompaniesWorked           0\n",
       "OverTime                    51\n",
       "PercentSalaryHike            0\n",
       "PerformanceRating           46\n",
       "RelationshipSatisfaction     0\n",
       "StockOptionLevel             0\n",
       "TotalWorkingYears            0\n",
       "TrainingTimesLastYear        0\n",
       "WorkLifeBalance              0\n",
       "YearsAtCompany               0\n",
       "YearsInCurrentRole           0\n",
       "YearsSinceLastPromotion      0\n",
       "YearsWithCurrManager         0\n",
       "dtype: int64"
      ]
     },
     "execution_count": 7,
     "metadata": {},
     "output_type": "execute_result"
    }
   ],
   "source": [
    "# Verifica quantos valores nulos tem por colunas, ou seja, por categoria.\n",
    "df.isnull().sum() "
   ]
  },
  {
   "cell_type": "code",
   "execution_count": 8,
   "id": "961d9838",
   "metadata": {},
   "outputs": [
    {
     "name": "stdout",
     "output_type": "stream",
     "text": [
      "Preenchendo coluna: EnvironmentSatisfaction com a moda: 3.0\n",
      "Preenchendo coluna: OverTime com a moda: No\n",
      "Preenchendo coluna: BusinessTravel com a moda: Travel_Rarely\n",
      "Preenchendo coluna: Gender com a moda: Male\n",
      "Preenchendo coluna: JobInvolvement com a moda: 3.0\n",
      "Preenchendo coluna: PerformanceRating com a moda: 3.0\n",
      "\n",
      "Análise descritiva da coluna: DistanceFromHome\n",
      "Limite inferior: -16.0, limite superior: 32.0\n",
      "Há outliers? Não\n",
      "Coeficiente de variação: 0.8852210503240954\n",
      "Média: 9.188334504567814, Mediana: 7.0 e Moda: 2.0\n",
      "\n",
      "Análise descritiva da coluna: HourlyRate\n",
      "Limite inferior: -6.0, limite superior: 138.0\n",
      "Há outliers? Não\n",
      "Coeficiente de variação: 0.3093151741293963\n",
      "Média: 65.90751043115438, Mediana: 66.0 e Moda: 66.0\n",
      "Preenchendo coluna: DistanceFromHome com a mediana: 7.0\n",
      "Preenchendo coluna: HourlyRate com a média: 65.90751043115438\n"
     ]
    }
   ],
   "source": [
    "# Verificando manualmente entre as colunas existentes, podemos listar as colunas que possuíam valores nulos e o respectivo tipo delas (listas abaixo).\n",
    "# Dessa forma, podemos padronizar o tratamento de valores nulos para as colunas qualitativas: preenche-se com a moda;\n",
    "# e para as colunas quantitativas contínuas: preenche-se com a mediana ou média (a depender do caso, por isso fazemos uma análise prévia sobre elas)\n",
    "\n",
    "\n",
    "\"\"\" Tratamento de valores nulos sobre colunas qualitativas --------------------------------------------------- \"\"\"\n",
    "cols_qual_com_nulos = [\n",
    "    \"EnvironmentSatisfaction\",\n",
    "    \"OverTime\",\n",
    "    \"BusinessTravel\",\n",
    "    \"Gender\",\n",
    "    \"JobInvolvement\",\n",
    "    \"PerformanceRating\"\n",
    "]\n",
    "\n",
    "for i in cols_qual_com_nulos:\n",
    "    print(\"Preenchendo coluna:\", i, \"com a moda:\", df[i].mode()[0])\n",
    "    df[i] = df[i].fillna(df[i].mode()[0])\n",
    "\n",
    "\n",
    "\"\"\" Tratamento de valores nulos sobre colunas quantitativas --------------------------------------------------- \"\"\"\n",
    "cols_quant_com_nulos = [\n",
    "    \"DistanceFromHome\",\n",
    "    \"HourlyRate\"\n",
    "]\n",
    "\n",
    "def analise_col_quantitativa(df, column_name):\n",
    "    \"\"\"Função para análise descritiva de colunas quantitativas contínuas\"\"\"\n",
    "    print(f\"\\nAnálise descritiva da coluna: {column_name}\")\n",
    "    lim_inf, lim_sup = calculate_lim_iqr(df[column_name]) \n",
    "    print(f\"Limite inferior: {lim_inf}, limite superior: {lim_sup}\")\n",
    "    print(f\"Há outliers? {'Sim' if verify_outliers(column_name, print_dados=False) else 'Não'}\")\n",
    "    print(f\"Coeficiente de variação: {df[column_name].std() / df[column_name].mean()}\")\n",
    "    print(f\"Média: { df[column_name].mean()}, Mediana: { df[column_name].median()} e Moda: { df[column_name].mode()[0]}\")\n",
    "\n",
    "for i in cols_quant_com_nulos:\n",
    "    analise_col_quantitativa(df, i)\n",
    "\n",
    "# Decisão manual baseada na análise acima:\n",
    "df[\"DistanceFromHome\"] = df[\"DistanceFromHome\"].fillna(df[\"DistanceFromHome\"].median()) # Com o alto coeficiente de variação, é válido usar a mediana ao invés da média\n",
    "print(f\"Preenchendo coluna: DistanceFromHome com a mediana: {df['DistanceFromHome'].median()}\")\n",
    "df[\"HourlyRate\"] = df[\"HourlyRate\"].fillna(df[\"HourlyRate\"].mean()) # Com o baixo coeficiente de variação, é válido usar a média ao invés da mediana\n",
    "print(f\"Preenchendo coluna: HourlyRate com a média: {df['HourlyRate'].mean()}\")"
   ]
  },
  {
   "cell_type": "code",
   "execution_count": 9,
   "id": "564abfc4",
   "metadata": {},
   "outputs": [
    {
     "data": {
      "text/plain": [
       "np.int64(0)"
      ]
     },
     "execution_count": 9,
     "metadata": {},
     "output_type": "execute_result"
    }
   ],
   "source": [
    "# Verifica se possui funcionários duplicados\n",
    "df.duplicated().sum() "
   ]
  },
  {
   "cell_type": "code",
   "execution_count": 10,
   "id": "800ea135",
   "metadata": {},
   "outputs": [
    {
     "data": {
      "text/plain": [
       "Age                         0\n",
       "Attrition                   0\n",
       "BusinessTravel              0\n",
       "DailyRate                   0\n",
       "Department                  0\n",
       "DistanceFromHome            0\n",
       "Education                   0\n",
       "EducationField              0\n",
       "EnvironmentSatisfaction     0\n",
       "Gender                      0\n",
       "HourlyRate                  0\n",
       "JobInvolvement              0\n",
       "JobLevel                    0\n",
       "JobRole                     0\n",
       "JobSatisfaction             0\n",
       "MaritalStatus               0\n",
       "MonthlyIncome               0\n",
       "MonthlyRate                 0\n",
       "NumCompaniesWorked          0\n",
       "OverTime                    0\n",
       "PercentSalaryHike           0\n",
       "PerformanceRating           0\n",
       "RelationshipSatisfaction    0\n",
       "StockOptionLevel            0\n",
       "TotalWorkingYears           0\n",
       "TrainingTimesLastYear       0\n",
       "WorkLifeBalance             0\n",
       "YearsAtCompany              0\n",
       "YearsInCurrentRole          0\n",
       "YearsSinceLastPromotion     0\n",
       "YearsWithCurrManager        0\n",
       "dtype: int64"
      ]
     },
     "execution_count": 10,
     "metadata": {},
     "output_type": "execute_result"
    }
   ],
   "source": [
    "# Resumo estatístico das colunas do dataframe após a substituição dos valores nulos\n",
    "df.describe()\n",
    "\n",
    "# Verifica se ainda há valores nulos\n",
    "df.isnull().sum()"
   ]
  },
  {
   "cell_type": "markdown",
   "id": "36d355c7",
   "metadata": {},
   "source": [
    "#### Tratamento de assimetria/outliers"
   ]
  },
  {
   "cell_type": "code",
   "execution_count": 11,
   "id": "f92bc547",
   "metadata": {},
   "outputs": [],
   "source": [
    "# Para os tratamentos referidos, definimos previamente funções auxiliares:\n",
    "\n",
    "def trata_outliers_clipping(df, colunas):\n",
    "    \"\"\"Trata outliers \"capando\" (clipping) os valores nos limites IQR\"\"\"\n",
    "    \n",
    "    for coluna in colunas:\n",
    "        # pega os limites\n",
    "        lim_inf, lim_sup = calculate_lim_iqr(df[coluna])\n",
    "\n",
    "        # conta quantos outliers existem antes\n",
    "        num_outliers = df[(df[coluna] < lim_inf) | (df[coluna] > lim_sup)].shape[0]\n",
    "\n",
    "        if num_outliers > 0:\n",
    "            print(f\"Tratando {num_outliers} outliers em '{coluna}' com clipping\")\n",
    "            # usa np.clip para \"capar\" os valores (um valor fora do limite é substituído pelo próprio limite)\n",
    "            df[coluna] = np.clip(df[coluna], lim_inf, lim_sup)\n",
    "\n",
    "    return df\n",
    "\n",
    "\n",
    "def trata_assimetria_log(df, colunas):\n",
    "    \"\"\"Aplica transformação log1p em colunas específicas com cauda longa (assimétricas)\"\"\"\n",
    "    \n",
    "    for col in colunas:\n",
    "        if col in df.columns:\n",
    "            print(f\"Transformando coluna '{col}' com log1p\")\n",
    "            # substitui a coluna original pela sua versão log\n",
    "            df[col] = np.log1p(df[col])\n",
    "            # renomeia para clareza\n",
    "            df.rename(columns={col: f'{col}_log'}, inplace=True)\n",
    "            \n",
    "    return df"
   ]
  },
  {
   "cell_type": "code",
   "execution_count": 12,
   "id": "0b88e743",
   "metadata": {},
   "outputs": [
    {
     "name": "stdout",
     "output_type": "stream",
     "text": [
      "Transformando coluna 'MonthlyIncome' com log1p\n",
      "Transformando coluna 'TotalWorkingYears' com log1p\n",
      "Transformando coluna 'YearsAtCompany' com log1p\n",
      "Transformando coluna 'YearsInCurrentRole' com log1p\n",
      "Transformando coluna 'YearsSinceLastPromotion' com log1p\n",
      "Tratando 52 outliers em 'NumCompaniesWorked' com clipping\n"
     ]
    }
   ],
   "source": [
    "# Definimos as colunas quantitativas contínuas para tratamento de outliers e assimetria\n",
    "# Obs.: essas colunas foram definidas manualmente após análise prévia dos dados, não necessariamente são todas assimétricas, mas potencialmente podem ser\n",
    "colunas_assimetricas = ['MonthlyIncome', 'TotalWorkingYears', 'YearsAtCompany', 'YearsInCurrentRole', 'YearsSinceLastPromotion']\n",
    "# Obs.: as colunas que terão assimetria tratada não são incluídas na lista de colunas para clipping (pois não faz sentido tratar outliers após a transformação logarítmica)\n",
    "colunas_para_clipping = ['Age', 'DailyRate', 'DistanceFromHome', 'HourlyRate', 'MonthlyRate', 'NumCompaniesWorked', 'PercentSalaryHike']\n",
    "\n",
    "# Tratamento de assimetria\n",
    "df = trata_assimetria_log(df, colunas_assimetricas)\n",
    "\n",
    "# Tratamento de outliers\n",
    "df = trata_outliers_clipping(df, colunas_para_clipping)"
   ]
  },
  {
   "cell_type": "markdown",
   "id": "9ed4a7ac",
   "metadata": {},
   "source": [
    "#### Padronização de texto"
   ]
  },
  {
   "cell_type": "code",
   "execution_count": 13,
   "id": "5aa8902c",
   "metadata": {},
   "outputs": [
    {
     "name": "stdout",
     "output_type": "stream",
     "text": [
      "Padronizando colunas de texto (strip, lower)...\n"
     ]
    }
   ],
   "source": [
    "# Por fim, padronizamos os textos presentes no dataframe com a seguinte função auxiliar:\n",
    "\n",
    "def padroniza_texto(df):\n",
    "    \"\"\"padroniza colunas de texto (object): remove espaços extras e converte para minúsculas\"\"\"\n",
    "    \n",
    "    print(\"Padronizando colunas de texto (strip, lower)...\")\n",
    "    df_tratado = df.copy()\n",
    "    \n",
    "    # seleciona apenas as colunas do tipo 'object' (texto)\n",
    "    colunas_texto = df_tratado.select_dtypes(include=['object']).columns\n",
    "    \n",
    "    for col in colunas_texto:\n",
    "        df_tratado[col] = df_tratado[col].str.strip().str.lower()\n",
    "        \n",
    "    return df_tratado\n",
    "\n",
    "df = padroniza_texto(df)"
   ]
  },
  {
   "cell_type": "markdown",
   "id": "6ec25eba",
   "metadata": {},
   "source": [
    "#### Registro da base limpa"
   ]
  },
  {
   "cell_type": "code",
   "execution_count": 14,
   "id": "f6f33113",
   "metadata": {},
   "outputs": [
    {
     "name": "stdout",
     "output_type": "stream",
     "text": [
      "Salvando arquivo...\n",
      "Arquivo salvo com sucesso em: dados_limpos.csv\n"
     ]
    }
   ],
   "source": [
    "# Por fim, salvamos o dataframe tratado em um novo arquivo csv \n",
    "\n",
    "def salvar_arquivo(df, nome_csv):\n",
    "    \"\"\"Salva o dataframe em um arquivo csv\"\"\"\n",
    "    print(\"Salvando arquivo...\")\n",
    "    if df is not None:\n",
    "        try:\n",
    "            df.to_csv(nome_csv, index=False, encoding='utf-8')\n",
    "            print(f\"Arquivo salvo com sucesso em: {nome_csv}\")\n",
    "        except Exception as e:\n",
    "            print(f\"ERRO ao salvar o arquivo: {e}\")\n",
    "\n",
    "salvar_arquivo(df, 'dados_limpos.csv')"
   ]
  }
 ],
 "metadata": {
  "kernelspec": {
   "display_name": "3.13.6",
   "language": "python",
   "name": "python3"
  },
  "language_info": {
   "codemirror_mode": {
    "name": "ipython",
    "version": 3
   },
   "file_extension": ".py",
   "mimetype": "text/x-python",
   "name": "python",
   "nbconvert_exporter": "python",
   "pygments_lexer": "ipython3",
   "version": "3.13.6"
  }
 },
 "nbformat": 4,
 "nbformat_minor": 5
}
