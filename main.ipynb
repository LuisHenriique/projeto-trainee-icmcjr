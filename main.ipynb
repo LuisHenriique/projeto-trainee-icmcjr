{
 "cells": [
  {
   "cell_type": "markdown",
   "id": "6741613b",
   "metadata": {},
   "source": [
    "\n",
    "## Projeto ICMC Júnior\n",
    "### Objetivo: Prever se um funcionário vai sair da empresa (attrition)."
   ]
  },
  {
   "cell_type": "code",
   "execution_count": 87,
   "id": "2bf81b10",
   "metadata": {},
   "outputs": [],
   "source": [
    "import pandas as pd\n",
    "import numpy as np\n",
    "import matplotlib.pyplot as plt\n",
    "import seaborn as sns"
   ]
  },
  {
   "cell_type": "code",
   "execution_count": 88,
   "id": "5fa2e900",
   "metadata": {},
   "outputs": [
    {
     "data": {
      "text/plain": [
       "(1470, 35)"
      ]
     },
     "execution_count": 88,
     "metadata": {},
     "output_type": "execute_result"
    }
   ],
   "source": [
    "# Leitura do arquivo csv\n",
    "df = pd.read_csv('dados.csv')\n",
    "# Verificação do tamanho da base de dados\n",
    "df.shape"
   ]
  },
  {
   "cell_type": "code",
   "execution_count": null,
   "id": "b7722fe5",
   "metadata": {},
   "outputs": [],
   "source": [
    "def calculate_lim_iqr(data_column):\n",
    "    \"\"\"Função responsável por calcular a amplitude interquartil de um Série (Coluna)\"\"\"\n",
    "    Q1 = data_column.quantile(0.25) # 1° Quartil \n",
    "    Q3 = data_column.quantile(0.75) # 3° Quartil \n",
    "    \n",
    "    \n",
    "    IQR = Q3 - Q1 # amplitude interquartil\n",
    "    \n",
    "    limite_inferior = Q1 - (1.5 * IQR) # lim inferior do box-plot\n",
    "    limite_superior = Q3 + (1.5 * IQR) # lim superior do box-plot\n",
    "    \n",
    "    return limite_inferior, limite_superior"
   ]
  },
  {
   "cell_type": "code",
   "execution_count": 90,
   "id": "33c7cae4",
   "metadata": {},
   "outputs": [
    {
     "data": {
      "text/html": [
       "<div>\n",
       "<style scoped>\n",
       "    .dataframe tbody tr th:only-of-type {\n",
       "        vertical-align: middle;\n",
       "    }\n",
       "\n",
       "    .dataframe tbody tr th {\n",
       "        vertical-align: top;\n",
       "    }\n",
       "\n",
       "    .dataframe thead th {\n",
       "        text-align: right;\n",
       "    }\n",
       "</style>\n",
       "<table border=\"1\" class=\"dataframe\">\n",
       "  <thead>\n",
       "    <tr style=\"text-align: right;\">\n",
       "      <th></th>\n",
       "      <th>Age</th>\n",
       "      <th>Attrition</th>\n",
       "      <th>BusinessTravel</th>\n",
       "      <th>DailyRate</th>\n",
       "      <th>Department</th>\n",
       "      <th>DistanceFromHome</th>\n",
       "      <th>Education</th>\n",
       "      <th>EducationField</th>\n",
       "      <th>EmployeeCount</th>\n",
       "      <th>EmployeeNumber</th>\n",
       "      <th>...</th>\n",
       "      <th>RelationshipSatisfaction</th>\n",
       "      <th>StandardHours</th>\n",
       "      <th>StockOptionLevel</th>\n",
       "      <th>TotalWorkingYears</th>\n",
       "      <th>TrainingTimesLastYear</th>\n",
       "      <th>WorkLifeBalance</th>\n",
       "      <th>YearsAtCompany</th>\n",
       "      <th>YearsInCurrentRole</th>\n",
       "      <th>YearsSinceLastPromotion</th>\n",
       "      <th>YearsWithCurrManager</th>\n",
       "    </tr>\n",
       "  </thead>\n",
       "  <tbody>\n",
       "    <tr>\n",
       "      <th>0</th>\n",
       "      <td>41</td>\n",
       "      <td>Yes</td>\n",
       "      <td>Travel_Rarely</td>\n",
       "      <td>1102</td>\n",
       "      <td>Sales</td>\n",
       "      <td>1.0</td>\n",
       "      <td>2</td>\n",
       "      <td>Life Sciences</td>\n",
       "      <td>1.0</td>\n",
       "      <td>1</td>\n",
       "      <td>...</td>\n",
       "      <td>1</td>\n",
       "      <td>80</td>\n",
       "      <td>0</td>\n",
       "      <td>8</td>\n",
       "      <td>0</td>\n",
       "      <td>1</td>\n",
       "      <td>6</td>\n",
       "      <td>4</td>\n",
       "      <td>0</td>\n",
       "      <td>5</td>\n",
       "    </tr>\n",
       "    <tr>\n",
       "      <th>1</th>\n",
       "      <td>49</td>\n",
       "      <td>No</td>\n",
       "      <td>Travel_Frequently</td>\n",
       "      <td>279</td>\n",
       "      <td>Research &amp; Development</td>\n",
       "      <td>8.0</td>\n",
       "      <td>1</td>\n",
       "      <td>Life Sciences</td>\n",
       "      <td>1.0</td>\n",
       "      <td>2</td>\n",
       "      <td>...</td>\n",
       "      <td>4</td>\n",
       "      <td>80</td>\n",
       "      <td>1</td>\n",
       "      <td>10</td>\n",
       "      <td>3</td>\n",
       "      <td>3</td>\n",
       "      <td>10</td>\n",
       "      <td>7</td>\n",
       "      <td>1</td>\n",
       "      <td>7</td>\n",
       "    </tr>\n",
       "    <tr>\n",
       "      <th>2</th>\n",
       "      <td>37</td>\n",
       "      <td>Yes</td>\n",
       "      <td>Travel_Rarely</td>\n",
       "      <td>1373</td>\n",
       "      <td>Research &amp; Development</td>\n",
       "      <td>2.0</td>\n",
       "      <td>2</td>\n",
       "      <td>Other</td>\n",
       "      <td>1.0</td>\n",
       "      <td>4</td>\n",
       "      <td>...</td>\n",
       "      <td>2</td>\n",
       "      <td>80</td>\n",
       "      <td>0</td>\n",
       "      <td>7</td>\n",
       "      <td>3</td>\n",
       "      <td>3</td>\n",
       "      <td>0</td>\n",
       "      <td>0</td>\n",
       "      <td>0</td>\n",
       "      <td>0</td>\n",
       "    </tr>\n",
       "    <tr>\n",
       "      <th>3</th>\n",
       "      <td>33</td>\n",
       "      <td>No</td>\n",
       "      <td>Travel_Frequently</td>\n",
       "      <td>1392</td>\n",
       "      <td>Research &amp; Development</td>\n",
       "      <td>NaN</td>\n",
       "      <td>4</td>\n",
       "      <td>Life Sciences</td>\n",
       "      <td>NaN</td>\n",
       "      <td>5</td>\n",
       "      <td>...</td>\n",
       "      <td>3</td>\n",
       "      <td>80</td>\n",
       "      <td>0</td>\n",
       "      <td>8</td>\n",
       "      <td>3</td>\n",
       "      <td>3</td>\n",
       "      <td>8</td>\n",
       "      <td>7</td>\n",
       "      <td>3</td>\n",
       "      <td>0</td>\n",
       "    </tr>\n",
       "    <tr>\n",
       "      <th>4</th>\n",
       "      <td>27</td>\n",
       "      <td>No</td>\n",
       "      <td>NaN</td>\n",
       "      <td>591</td>\n",
       "      <td>Research &amp; Development</td>\n",
       "      <td>2.0</td>\n",
       "      <td>1</td>\n",
       "      <td>Medical</td>\n",
       "      <td>NaN</td>\n",
       "      <td>7</td>\n",
       "      <td>...</td>\n",
       "      <td>4</td>\n",
       "      <td>80</td>\n",
       "      <td>1</td>\n",
       "      <td>6</td>\n",
       "      <td>3</td>\n",
       "      <td>3</td>\n",
       "      <td>2</td>\n",
       "      <td>2</td>\n",
       "      <td>2</td>\n",
       "      <td>2</td>\n",
       "    </tr>\n",
       "  </tbody>\n",
       "</table>\n",
       "<p>5 rows × 35 columns</p>\n",
       "</div>"
      ],
      "text/plain": [
       "   Age Attrition     BusinessTravel  DailyRate              Department  \\\n",
       "0   41       Yes      Travel_Rarely       1102                   Sales   \n",
       "1   49        No  Travel_Frequently        279  Research & Development   \n",
       "2   37       Yes      Travel_Rarely       1373  Research & Development   \n",
       "3   33        No  Travel_Frequently       1392  Research & Development   \n",
       "4   27        No                NaN        591  Research & Development   \n",
       "\n",
       "   DistanceFromHome  Education EducationField  EmployeeCount  EmployeeNumber  \\\n",
       "0               1.0          2  Life Sciences            1.0               1   \n",
       "1               8.0          1  Life Sciences            1.0               2   \n",
       "2               2.0          2          Other            1.0               4   \n",
       "3               NaN          4  Life Sciences            NaN               5   \n",
       "4               2.0          1        Medical            NaN               7   \n",
       "\n",
       "   ...  RelationshipSatisfaction StandardHours  StockOptionLevel  \\\n",
       "0  ...                         1            80                 0   \n",
       "1  ...                         4            80                 1   \n",
       "2  ...                         2            80                 0   \n",
       "3  ...                         3            80                 0   \n",
       "4  ...                         4            80                 1   \n",
       "\n",
       "   TotalWorkingYears  TrainingTimesLastYear WorkLifeBalance  YearsAtCompany  \\\n",
       "0                  8                      0               1               6   \n",
       "1                 10                      3               3              10   \n",
       "2                  7                      3               3               0   \n",
       "3                  8                      3               3               8   \n",
       "4                  6                      3               3               2   \n",
       "\n",
       "  YearsInCurrentRole  YearsSinceLastPromotion  YearsWithCurrManager  \n",
       "0                  4                        0                     5  \n",
       "1                  7                        1                     7  \n",
       "2                  0                        0                     0  \n",
       "3                  7                        3                     0  \n",
       "4                  2                        2                     2  \n",
       "\n",
       "[5 rows x 35 columns]"
      ]
     },
     "execution_count": 90,
     "metadata": {},
     "output_type": "execute_result"
    }
   ],
   "source": [
    "# Exibe os 5 primeiros funcionários da base de dados, apenas para contextualizar com a base\n",
    "df.head()"
   ]
  },
  {
   "cell_type": "code",
   "execution_count": 91,
   "id": "3c484520",
   "metadata": {},
   "outputs": [
    {
     "data": {
      "text/plain": [
       "Age                           0\n",
       "Attrition                     0\n",
       "BusinessTravel               70\n",
       "DailyRate                     0\n",
       "Department                    0\n",
       "DistanceFromHome             47\n",
       "Education                     0\n",
       "EducationField                0\n",
       "EmployeeCount               220\n",
       "EmployeeNumber                0\n",
       "EnvironmentSatisfaction      53\n",
       "Gender                       67\n",
       "HourlyRate                   32\n",
       "JobInvolvement               61\n",
       "JobLevel                      0\n",
       "JobRole                       0\n",
       "JobSatisfaction               0\n",
       "MaritalStatus                 0\n",
       "MonthlyIncome                 0\n",
       "MonthlyRate                   0\n",
       "NumCompaniesWorked            0\n",
       "Over18                        0\n",
       "OverTime                     51\n",
       "PercentSalaryHike             0\n",
       "PerformanceRating            46\n",
       "RelationshipSatisfaction      0\n",
       "StandardHours                 0\n",
       "StockOptionLevel              0\n",
       "TotalWorkingYears             0\n",
       "TrainingTimesLastYear         0\n",
       "WorkLifeBalance               0\n",
       "YearsAtCompany                0\n",
       "YearsInCurrentRole            0\n",
       "YearsSinceLastPromotion       0\n",
       "YearsWithCurrManager          0\n",
       "dtype: int64"
      ]
     },
     "execution_count": 91,
     "metadata": {},
     "output_type": "execute_result"
    }
   ],
   "source": [
    "# TRATAMENTO DE VALORES NULOS\n",
    "df.isnull().sum() # Verifica quantos valores nulos tem por colunas, ou seja, por categoria."
   ]
  },
  {
   "cell_type": "code",
   "execution_count": 92,
   "id": "9ba4121e",
   "metadata": {},
   "outputs": [
    {
     "data": {
      "text/plain": [
       "0       1.0\n",
       "1       1.0\n",
       "2       1.0\n",
       "3       NaN\n",
       "4       NaN\n",
       "       ... \n",
       "1465    1.0\n",
       "1466    1.0\n",
       "1467    1.0\n",
       "1468    1.0\n",
       "1469    1.0\n",
       "Name: EmployeeCount, Length: 1470, dtype: float64"
      ]
     },
     "execution_count": 92,
     "metadata": {},
     "output_type": "execute_result"
    }
   ],
   "source": [
    "df['EmployeeCount']"
   ]
  },
  {
   "cell_type": "code",
   "execution_count": 93,
   "id": "c46276b0",
   "metadata": {},
   "outputs": [],
   "source": [
    "# Em 'EmployeeCount' todos os valores são como padrão igual a 1.0, sendo cada linha, um funcionário, com isso se corrige os NaN para 1.0\n",
    "# no dataframe original\n",
    "df['EmployeeCount'].fillna(value=1, inplace=True)"
   ]
  },
  {
   "cell_type": "code",
   "execution_count": null,
   "id": "78d75a33",
   "metadata": {},
   "outputs": [
    {
     "name": "stdout",
     "output_type": "stream",
     "text": [
      "Limite Inferior (Q1 - 1.5*IQR): -16.0\n",
      "Limite Superior (Q3 + 1.5*IQR): 32.0\n"
     ]
    }
   ],
   "source": [
    "# Tratamento dos valores nulos da coluna: DistanceFromHome (Quantitativa continua)\n",
    "# Calculando o IQR = Q3 - Q1\n",
    "\n",
    "# Calcula o limite inferior e limite superior da coluna DistanceFromHome\n",
    "lim_inf_dfh,lim_sup_dfh = calculate_lim_iqr(df['DistanceFromHome'])\n",
    "\n",
    "print(f\"Limite Inferior (Q1 - 1.5*IQR): {lim_inf_dfh}\")\n",
    "print(f\"Limite Superior (Q3 + 1.5*IQR): {lim_sup_dfh}\")"
   ]
  },
  {
   "cell_type": "code",
   "execution_count": 95,
   "id": "ec8f5980",
   "metadata": {},
   "outputs": [
    {
     "data": {
      "text/plain": [
       "count    1423.000000\n",
       "mean        9.188335\n",
       "std         8.133707\n",
       "min         1.000000\n",
       "25%         2.000000\n",
       "50%         7.000000\n",
       "75%        14.000000\n",
       "max        29.000000\n",
       "Name: DistanceFromHome, dtype: float64"
      ]
     },
     "execution_count": 95,
     "metadata": {},
     "output_type": "execute_result"
    }
   ],
   "source": [
    "# Resumo das descrições estatísticas da categoria DistanceFromHome\n",
    "df['DistanceFromHome'].describe()"
   ]
  },
  {
   "cell_type": "code",
   "execution_count": 96,
   "id": "ff365352",
   "metadata": {},
   "outputs": [],
   "source": [
    "# O menor valor (min) é igual a 1.0 e o maior valor (max) é igual a 29.0, com isso podemos ver atráves disso, todos \n",
    "# os dados então dentro das margens, não tendo nenhum outliers. No entanto, devido ao desvio padrão ser mais de 80% da média, \n",
    "# indica que meus dados, não estão bem distribuidos. \n",
    "\n",
    "# Calculo a mediana\n",
    "median_distances = df['DistanceFromHome'].median() \n",
    "# Preenche todos os valores NaN com a mediana e em seguida, reatribui a coluna nela mesma.\n",
    "df['DistanceFromHome'] = df['DistanceFromHome'].fillna(median_distances)\n"
   ]
  },
  {
   "cell_type": "code",
   "execution_count": 97,
   "id": "ab241ac3",
   "metadata": {},
   "outputs": [
    {
     "name": "stdout",
     "output_type": "stream",
     "text": [
      "EnvironmentSatisfaction\n",
      "3.0    438\n",
      "4.0    427\n",
      "2.0    277\n",
      "1.0    275\n",
      "NaN     53\n",
      "Name: count, dtype: int64\n"
     ]
    }
   ],
   "source": [
    "print(df['EnvironmentSatisfaction'].value_counts(dropna=False))"
   ]
  },
  {
   "cell_type": "code",
   "execution_count": 98,
   "id": "27cdac08",
   "metadata": {},
   "outputs": [],
   "source": [
    "# Tratamento da coluna EnvironmentSatisfaction - Qualitativa ordinal\n",
    "# Preenche os valores ausentes com os valores da moda, em seguida, reatribui os valores na coluna original do dataframe\n",
    "# Obs: a mediana aqui teria o mesmo resultado da moda.\n",
    "\n",
    "# Pega o primeiro (e único) valor da moda\n",
    "moda_env_satisfaction = df['EnvironmentSatisfaction'].mode()[0]\n",
    "df['EnvironmentSatisfaction'] = df['EnvironmentSatisfaction'].fillna(moda_env_satisfaction)"
   ]
  },
  {
   "cell_type": "code",
   "execution_count": 99,
   "id": "75d7c852",
   "metadata": {},
   "outputs": [
    {
     "name": "stdout",
     "output_type": "stream",
     "text": [
      "OverTime\n",
      "No     0.693197\n",
      "Yes    0.272109\n",
      "NaN    0.034694\n",
      "Name: proportion, dtype: float64\n"
     ]
    }
   ],
   "source": [
    "print(df['OverTime'].value_counts(dropna=False, normalize=True)) # Exibe a proporção de cada resposta na coluna OverTime, variando de 0 a 1."
   ]
  },
  {
   "cell_type": "code",
   "execution_count": 100,
   "id": "da91e7c6",
   "metadata": {},
   "outputs": [],
   "source": [
    "# Tratamento de valores ausentes coluna - OverTime (Qualitativo nominal)\n",
    "# Como podemos ver acima, possui uma quantidade esmagadora de funcionários que não realizam horas extras, quase 70% deles.\n",
    "\n",
    "# Preenche os valores ausentes com a moda e reatribui os resultados na coluna respectiva\n",
    "df['OverTime'] = df['OverTime'].fillna(df['OverTime'].mode()[0])\n"
   ]
  },
  {
   "cell_type": "code",
   "execution_count": 104,
   "id": "4afebaa6",
   "metadata": {},
   "outputs": [
    {
     "name": "stdout",
     "output_type": "stream",
     "text": [
      "count    1438.000000\n",
      "mean       65.907510\n",
      "std        20.386193\n",
      "min        30.000000\n",
      "25%        48.000000\n",
      "50%        66.000000\n",
      "75%        84.000000\n",
      "max       100.000000\n",
      "Name: HourlyRate, dtype: float64\n"
     ]
    }
   ],
   "source": [
    "print(df['HourlyRate'].describe())"
   ]
  },
  {
   "cell_type": "code",
   "execution_count": 112,
   "id": "c2f03c55",
   "metadata": {},
   "outputs": [
    {
     "name": "stdout",
     "output_type": "stream",
     "text": [
      "Limite inferior:-6.0, limite superior: 138.0\n",
      "Coeficiente de variação 0.3093151741293963\n",
      "Média: 65.90751043115438 e Mediana: 66.0\n"
     ]
    }
   ],
   "source": [
    "# Tratamento valores ausentes - HourlyRate (Quantitativo Contínua)\n",
    "\n",
    "# Calcula o limite inferior e limite superior da coluna HourlyRate\n",
    "lim_inf_hr, lim_sup_hr = calculate_lim_iqr(df['HourlyRate']) \n",
    "print(f\"Limite inferior:{lim_inf_hr}, limite superior: {lim_sup_hr}\")\n",
    "print(f\"Coeficiente de variação {df['HourlyRate'].std() / df['HourlyRate'].mean()}\")\n",
    "print(f\"Média: { df['HourlyRate'].mean()} e Mediana: { df['HourlyRate'].median()}\")"
   ]
  },
  {
   "cell_type": "code",
   "execution_count": null,
   "id": "ab8bcc54",
   "metadata": {},
   "outputs": [],
   "source": [
    "# Podemos ver atráves dos limites (inferior e superior) que os nossos dados estão dentro dessas margens, visto que\n",
    "# o menor valor (min) é 30.0 e o maior (max) é 100.0, com isso não possui outliers. O coeficiente de variação é igual a 30%, dessa forma\n",
    "# temos uma variação média entre os dados. Além disso, a média está bem proxima da mediana. Usa-se a média para representação dos dados ausentes\n",
    "\n",
    "# Preenche os valores ausentes com a média e reatribui os resultados na coluna respectiva\n",
    "df['HourlyRate'] = df['HourlyRate'].fillna(df['HourlyRate'].mean())"
   ]
  },
  {
   "cell_type": "code",
   "execution_count": 117,
   "id": "7f16b823",
   "metadata": {},
   "outputs": [
    {
     "data": {
      "text/plain": [
       "Age                          0\n",
       "Attrition                    0\n",
       "BusinessTravel              70\n",
       "DailyRate                    0\n",
       "Department                   0\n",
       "DistanceFromHome             0\n",
       "Education                    0\n",
       "EducationField               0\n",
       "EmployeeCount                0\n",
       "EmployeeNumber               0\n",
       "EnvironmentSatisfaction      0\n",
       "Gender                      67\n",
       "HourlyRate                   0\n",
       "JobInvolvement              61\n",
       "JobLevel                     0\n",
       "JobRole                      0\n",
       "JobSatisfaction              0\n",
       "MaritalStatus                0\n",
       "MonthlyIncome                0\n",
       "MonthlyRate                  0\n",
       "NumCompaniesWorked           0\n",
       "Over18                       0\n",
       "OverTime                     0\n",
       "PercentSalaryHike            0\n",
       "PerformanceRating           46\n",
       "RelationshipSatisfaction     0\n",
       "StandardHours                0\n",
       "StockOptionLevel             0\n",
       "TotalWorkingYears            0\n",
       "TrainingTimesLastYear        0\n",
       "WorkLifeBalance              0\n",
       "YearsAtCompany               0\n",
       "YearsInCurrentRole           0\n",
       "YearsSinceLastPromotion      0\n",
       "YearsWithCurrManager         0\n",
       "dtype: int64"
      ]
     },
     "execution_count": 117,
     "metadata": {},
     "output_type": "execute_result"
    }
   ],
   "source": [
    "df.isnull().sum() # Verifica quantos valores nulos tem por colunas, ou seja, por categoria."
   ]
  },
  {
   "cell_type": "code",
   "execution_count": null,
   "id": "564abfc4",
   "metadata": {},
   "outputs": [],
   "source": []
  }
 ],
 "metadata": {
  "kernelspec": {
   "display_name": ".venv",
   "language": "python",
   "name": "python3"
  },
  "language_info": {
   "codemirror_mode": {
    "name": "ipython",
    "version": 3
   },
   "file_extension": ".py",
   "mimetype": "text/x-python",
   "name": "python",
   "nbconvert_exporter": "python",
   "pygments_lexer": "ipython3",
   "version": "3.12.3"
  }
 },
 "nbformat": 4,
 "nbformat_minor": 5
}
